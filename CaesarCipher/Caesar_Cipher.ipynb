{
  "nbformat": 4,
  "nbformat_minor": 0,
  "metadata": {
    "colab": {
      "provenance": []
    },
    "kernelspec": {
      "name": "python3",
      "display_name": "Python 3"
    },
    "language_info": {
      "name": "python"
    }
  },
  "cells": [
    {
      "cell_type": "code",
      "execution_count": 1,
      "metadata": {
        "colab": {
          "base_uri": "https://localhost:8080/"
        },
        "id": "gjAgzU8Tx_Mz",
        "outputId": "6b42466d-5685-4473-e1b8-e15e9a80d0d8"
      },
      "outputs": [
        {
          "output_type": "stream",
          "name": "stdout",
          "text": [
            "Enter string hello12\n",
            "Encrypted: khoor12\n",
            "Decrypted: hello12\n"
          ]
        }
      ],
      "source": [
        "def caesar_cipher(text, shift):\n",
        "    result = ''\n",
        "    for char in text:\n",
        "        if char.isalpha():\n",
        "            if char.isupper():\n",
        "                start = ord('A')\n",
        "            else:\n",
        "                start=ord('a')\n",
        "            shifted_pos = (ord(char) - start + shift) % 26\n",
        "            shifted_char = chr(shifted_pos + start)\n",
        "            result += shifted_char\n",
        "        else:\n",
        "            result += char\n",
        "    return result\n",
        "\n",
        "def caesar_decipher(text, shift):\n",
        "    result = ''\n",
        "    for char in text:\n",
        "        if char.isalpha():\n",
        "             if char.isupper():\n",
        "                start = ord('A')\n",
        "             else:\n",
        "                start=ord('a')\n",
        "             shifted_pos = (ord(char) - start - shift) % 26\n",
        "             shifted_char = chr(shifted_pos + start)\n",
        "             result += shifted_char\n",
        "        else:\n",
        "            result += char\n",
        "    return result\n",
        "\n",
        "txt=input(\"Enter string \")\n",
        "shift_value = 3\n",
        "\n",
        "# Encryption\n",
        "encrypted = caesar_cipher(txt, shift_value)\n",
        "print(\"Encrypted:\", encrypted)\n",
        "\n",
        "# Decryption\n",
        "decrypted = caesar_decipher(encrypted, shift_value)\n",
        "print(\"Decrypted:\", decrypted)\n"
      ]
    }
  ]
}